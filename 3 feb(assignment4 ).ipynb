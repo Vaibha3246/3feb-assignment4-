{
 "cells": [
  {
   "cell_type": "code",
   "execution_count": 2,
   "id": "14951d5d-6ce7-4adb-bbf7-c21554a51190",
   "metadata": {},
   "outputs": [],
   "source": [
    " # question 1 : Which keyword is used to create a function? Create a function to return a list of odd numbers in the\n",
    "# range of 1 to 25."
   ]
  },
  {
   "cell_type": "code",
   "execution_count": 15,
   "id": "c429ae95-9722-4d2f-9b3f-c109eef8bd25",
   "metadata": {},
   "outputs": [],
   "source": [
    "# def function is used to to create a function.\n",
    "l1=[]\n",
    "def odd():\n",
    "    \n",
    "    for i in range(1,25):\n",
    "        if (i%2)!=0:\n",
    "            l1.append(i)\n",
    "    print(l1)"
   ]
  },
  {
   "cell_type": "code",
   "execution_count": 16,
   "id": "1181f9b1-68b6-4786-b4cd-4bafd794e8b2",
   "metadata": {},
   "outputs": [
    {
     "name": "stdout",
     "output_type": "stream",
     "text": [
      "[1, 3, 5, 7, 9, 11, 13, 15, 17, 19, 21, 23]\n"
     ]
    }
   ],
   "source": [
    "odd()"
   ]
  },
  {
   "cell_type": "code",
   "execution_count": 17,
   "id": "b498e44d-c60c-4b88-8f19-655fd0254280",
   "metadata": {},
   "outputs": [],
   "source": [
    "#Q2. Why *args and **kwargs is used in some functions? Create a function each for *args and **kwargs \n",
    "# to demonstrate their use.\n",
    "# The special syntax *args in function definitions in python is used to pass a variable number of arguments to a function. \n",
    "# It is used to pass a non-key worded, variable-length argument list. \n",
    "\n",
    "# The syntax is to use the symbol * to take in a variable number of arguments; by convention, it is often used with the word args.\n",
    "# What *args allows you to do is take in more arguments than the number of formal arguments that you previously defined.\n",
    "# With *args, any number of extra arguments can be tacked on to your current formal parameters (including zero extra arguments).\n",
    "# For example, we want to make a multiply function that takes any number of arguments and is able to multiply them all together. \n",
    "# It can be done using *args.\n",
    "# Using the *, the variable that we associate with the * becomes an iterable meaning you can do things like iterate over it,\n",
    "# run some higher-order function"
   ]
  },
  {
   "cell_type": "code",
   "execution_count": 18,
   "id": "7148f6eb-ced4-4b23-ad13-6953c3511498",
   "metadata": {},
   "outputs": [],
   "source": [
    "def test1(*args):\n",
    "    return args"
   ]
  },
  {
   "cell_type": "code",
   "execution_count": 20,
   "id": "f06a22f2-4af2-41b1-9427-5795dbac7a88",
   "metadata": {},
   "outputs": [
    {
     "data": {
      "text/plain": [
       "(2, 'vaibhav', 5, 7.8, [9, 10, 11])"
      ]
     },
     "execution_count": 20,
     "metadata": {},
     "output_type": "execute_result"
    }
   ],
   "source": [
    "test1(2,\"vaibhav\",5,7.8,[9,10,11])"
   ]
  },
  {
   "cell_type": "code",
   "execution_count": 27,
   "id": "da72c3b4-0296-4fc8-a2cd-353c7dc48c17",
   "metadata": {},
   "outputs": [],
   "source": [
    "def test2(*args , a):\n",
    "    return args,a\n",
    "    \n",
    "    \n",
    "    "
   ]
  },
  {
   "cell_type": "code",
   "execution_count": 28,
   "id": "bd0c7a40-e197-4fc4-b253-0a34113e6eeb",
   "metadata": {},
   "outputs": [
    {
     "data": {
      "text/plain": [
       "((1, 5, 8, 9, [7, 11, 13, 16]), 70)"
      ]
     },
     "execution_count": 28,
     "metadata": {},
     "output_type": "execute_result"
    }
   ],
   "source": [
    "test2(1,5,8,9,[7,11,13,16], a=70)"
   ]
  },
  {
   "cell_type": "code",
   "execution_count": 29,
   "id": "66c185c5-b4af-47c1-95e6-ea54d5132f45",
   "metadata": {},
   "outputs": [],
   "source": [
    "#The special syntax **kwargs in function definitions in python is used to pass a keyworded, variable-length argument list. We use the name kwargs with the double star. \n",
    "# The reason is that the double star allows us to pass through keyword arguments (and any number of them).\n",
    "\n",
    "#A keyword argument is where you provide a name to the variable as you pass it into the function.\n",
    "# One can think of the kwargs as being a dictionary that maps each keyword to the value that we pass alongside it. \n",
    "# That is why when we iterate over the kwargs there doesn’t"
   ]
  },
  {
   "cell_type": "code",
   "execution_count": 30,
   "id": "64318151-735e-4926-8cf7-2dfbe499962b",
   "metadata": {},
   "outputs": [],
   "source": [
    "def test3(**kwargs):\n",
    "    return kwargs"
   ]
  },
  {
   "cell_type": "code",
   "execution_count": 32,
   "id": "c671e5ab-2a0f-40f1-89d6-f0e223ee1f92",
   "metadata": {},
   "outputs": [
    {
     "data": {
      "text/plain": [
       "{'name': 'vaibhav', 'l': [1, 2, 4, 6, 'sudhanshu'], 'a': 87}"
      ]
     },
     "execution_count": 32,
     "metadata": {},
     "output_type": "execute_result"
    }
   ],
   "source": [
    "test3(name=\"vaibhav\", l=[1,2,4,6,\"sudhanshu\"],a=87)"
   ]
  },
  {
   "cell_type": "code",
   "execution_count": 1,
   "id": "166528d7-54fa-4791-8f87-3341bbd80c86",
   "metadata": {},
   "outputs": [],
   "source": [
    "# Q3. What is an iterator in python? Name the method used to initialise the iterator object and the method\n",
    "\n",
    "# used for iteration. Use these methods to print the first five elements of the given list [2, 4, 6, 8, 10, 12, 14, 16, 18, 20]\n",
    "\n",
    "# . iterator is a object, it is able to use next( ) function with this.\n",
    "# . iter( ) used to initialise objects\n",
    "# . And next( ) used to iteration any iterator"
   ]
  },
  {
   "cell_type": "code",
   "execution_count": 12,
   "id": "531c45ee-a7ba-49ec-89e0-4db3280d34fd",
   "metadata": {},
   "outputs": [
    {
     "name": "stdout",
     "output_type": "stream",
     "text": [
      "2\n",
      "4\n",
      "6\n",
      "8\n",
      "10\n"
     ]
    }
   ],
   "source": [
    "l=[2,4,6,8,10,12,14,16,18,20]\n",
    "l1=iter(l)\n",
    "i=0\n",
    "while i<5:\n",
    "    print(next(l1))\n",
    "    i=i+1\n",
    "\n"
   ]
  },
  {
   "cell_type": "code",
   "execution_count": 13,
   "id": "0bbf532d-e6fb-4a71-9749-cf6c57801d0e",
   "metadata": {},
   "outputs": [
    {
     "data": {
      "text/plain": [
       "list_iterator"
      ]
     },
     "execution_count": 13,
     "metadata": {},
     "output_type": "execute_result"
    }
   ],
   "source": [
    "type(l1)"
   ]
  },
  {
   "cell_type": "code",
   "execution_count": 14,
   "id": "e7c9eb6d-0fe5-4d09-97ea-8ff46c9acace",
   "metadata": {},
   "outputs": [],
   "source": [
    "# Q4. What is a generator function in python? Why yield keyword is used? Give an example of a generator function\n",
    "\n",
    "# A generator is a special type of function which does not return a single value, instead, \n",
    "# it returns an iterator object with a sequence of values. In a generator function, \n",
    "# a yield statement is used rather than a return statement."
   ]
  },
  {
   "cell_type": "code",
   "execution_count": 15,
   "id": "fa00d5dc-a01b-412d-8ab9-d6a1b63b5edf",
   "metadata": {},
   "outputs": [],
   "source": [
    "def test():\n",
    "    for i in range(1,20):\n",
    "        yield i"
   ]
  },
  {
   "cell_type": "code",
   "execution_count": 16,
   "id": "8f3de836-a313-462a-baf2-29ee8c1fe574",
   "metadata": {},
   "outputs": [
    {
     "data": {
      "text/plain": [
       "<generator object test at 0x7f4bf19d3370>"
      ]
     },
     "execution_count": 16,
     "metadata": {},
     "output_type": "execute_result"
    }
   ],
   "source": [
    "test()"
   ]
  },
  {
   "cell_type": "code",
   "execution_count": 26,
   "id": "977d4701-709a-430b-bae4-e451d932f2d7",
   "metadata": {},
   "outputs": [],
   "source": [
    "c=test()"
   ]
  },
  {
   "cell_type": "code",
   "execution_count": 28,
   "id": "0dd11552-c995-4e2e-a617-23642a68ad9d",
   "metadata": {},
   "outputs": [
    {
     "name": "stdout",
     "output_type": "stream",
     "text": [
      "1\n",
      "2\n",
      "3\n",
      "4\n",
      "5\n",
      "6\n",
      "7\n",
      "8\n",
      "9\n",
      "10\n",
      "11\n",
      "12\n",
      "13\n",
      "14\n",
      "15\n",
      "16\n",
      "17\n",
      "18\n",
      "19\n"
     ]
    }
   ],
   "source": [
    "for i in  c:\n",
    "    print(i)"
   ]
  },
  {
   "cell_type": "code",
   "execution_count": 29,
   "id": "116748a7-3df5-42d5-ad90-3ebdc3cb3296",
   "metadata": {},
   "outputs": [
    {
     "data": {
      "text/plain": [
       "generator"
      ]
     },
     "execution_count": 29,
     "metadata": {},
     "output_type": "execute_result"
    }
   ],
   "source": [
    "type(c)"
   ]
  },
  {
   "cell_type": "code",
   "execution_count": 3,
   "id": "4c3961db-03a2-4e99-9ffc-f7e81c7b35bb",
   "metadata": {},
   "outputs": [],
   "source": [
    "# Q5. Create a generator function for prime numbers less than 1000. Use the next() method to print the\n",
    "# first 20 prime numbers.\n",
    "\n",
    "def generator_prime():\n",
    "    primes=[]\n",
    "    num=2\n",
    "    while num<1000:\n",
    "        if all(num%p!=0 for p in primes):\n",
    "            primes.append(num)\n",
    "            yield num\n",
    "        num=num+1\n",
    "        "
   ]
  },
  {
   "cell_type": "code",
   "execution_count": 8,
   "id": "ce806968-365e-49d3-ac05-535916428dca",
   "metadata": {},
   "outputs": [
    {
     "name": "stdout",
     "output_type": "stream",
     "text": [
      "2\n",
      "3\n",
      "5\n",
      "7\n",
      "11\n",
      "13\n",
      "17\n",
      "19\n",
      "23\n",
      "29\n",
      "31\n",
      "37\n",
      "41\n",
      "43\n",
      "47\n",
      "53\n",
      "59\n",
      "61\n",
      "67\n",
      "71\n"
     ]
    }
   ],
   "source": [
    "primes=generator_prime()\n",
    "for i in range(20):\n",
    "    print(next(primes))\n"
   ]
  },
  {
   "cell_type": "code",
   "execution_count": 29,
   "id": "a6edb5c6-495e-4169-8935-7bf35079e6d8",
   "metadata": {},
   "outputs": [
    {
     "name": "stdout",
     "output_type": "stream",
     "text": [
      "0 1 1 2 3 5 8 13 21 34 55 "
     ]
    }
   ],
   "source": [
    "# Q6. Write a python program to print the first 10 Fibonacci numbers using a while loop.\n",
    "\n",
    "n=10\n",
    "a,b=0,1\n",
    "i=0\n",
    "while i<=10:\n",
    "    print(a,  end = \" \")\n",
    "    c=a+b\n",
    "    a=b\n",
    "    b=c\n",
    "    i=i+1\n",
    "    \n",
    "    "
   ]
  },
  {
   "cell_type": "code",
   "execution_count": 31,
   "id": "b02ccb0b-b8f9-4609-9102-d6943f4f8037",
   "metadata": {},
   "outputs": [
    {
     "name": "stdout",
     "output_type": "stream",
     "text": [
      "['p', 'w', 's', 'k', 'i', 'l', 'l', 's']\n"
     ]
    }
   ],
   "source": [
    "# 7. Write a List Comprehension to iterate through the given string: ‘pwskills’.\n",
    "# Expected output: ['p', 'w', 's', 'k', 'i', 'l', 'l', 's']\n",
    "\n",
    "s = \"pwskills\"\n",
    "List = [character for character in s]\n",
    " \n",
    "# Displaying list\n",
    "print(List)"
   ]
  },
  {
   "cell_type": "code",
   "execution_count": 34,
   "id": "74bb6a2c-c457-4fcf-9fa0-103b11e38b74",
   "metadata": {},
   "outputs": [
    {
     "name": "stdin",
     "output_type": "stream",
     "text": [
      "Enter a number: 123321\n"
     ]
    },
    {
     "name": "stdout",
     "output_type": "stream",
     "text": [
      "The number is palindrome!\n"
     ]
    }
   ],
   "source": [
    "# 8. Write a python program to check whether a given number is Palindrome or not using a while loop.\n",
    "\n",
    "num=int(input(\"Enter a number:\"))\n",
    "temp=num\n",
    "rev=0\n",
    "while(num>0):\n",
    "    dig=num%10\n",
    "    rev=rev*10+dig\n",
    "    num=num//10\n",
    "if(temp==rev):\n",
    "    print(\"The number is palindrome!\")\n",
    "else:\n",
    "    print(\"Not a palindrome!\")\n",
    "    \n",
    "    \n",
    "          \n",
    "          "
   ]
  },
  {
   "cell_type": "code",
   "execution_count": null,
   "id": "46168c98-45d5-4ca6-9a63-f2e537ad4b47",
   "metadata": {},
   "outputs": [],
   "source": [
    "# 9. Write a code to print odd numbers from 1 to 100 using list comprehension.\n",
    "# Note: Use a list comprehension to create a list from 1 to 100 and use another List comprehension to filter out odd numbers\n",
    "l=[i for i in range(101)]\n",
    "l1=[i for i in l if i%2!=0]\n"
   ]
  }
 ],
 "metadata": {
  "kernelspec": {
   "display_name": "Python 3 (ipykernel)",
   "language": "python",
   "name": "python3"
  },
  "language_info": {
   "codemirror_mode": {
    "name": "ipython",
    "version": 3
   },
   "file_extension": ".py",
   "mimetype": "text/x-python",
   "name": "python",
   "nbconvert_exporter": "python",
   "pygments_lexer": "ipython3",
   "version": "3.10.6"
  }
 },
 "nbformat": 4,
 "nbformat_minor": 5
}
